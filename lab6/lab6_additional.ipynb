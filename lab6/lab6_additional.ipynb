{
 "cells": [
  {
   "cell_type": "code",
   "execution_count": 1,
   "metadata": {
    "collapsed": true,
    "ExecuteTime": {
     "start_time": "2023-04-07T01:27:28.579257Z",
     "end_time": "2023-04-07T01:27:28.953023Z"
    }
   },
   "outputs": [],
   "source": [
    "import pandas as pd\n",
    "from matplotlib import pyplot as plt\n",
    "from sklearn.cluster import KMeans\n",
    "from sklearn.metrics import silhouette_score\n",
    "from kneed import KneeLocator\n",
    "import numpy as np\n",
    "import math"
   ]
  },
  {
   "cell_type": "code",
   "execution_count": 2,
   "outputs": [
    {
     "data": {
      "text/plain": "                                           region  gdp_per_capita  population  \\\ncountry_name                                                                    \nAfghanistan                            South Asia      561.778746    34656032   \nAlbania                     Europe & Central Asia     4124.982390     2876101   \nAlgeria                Middle East & North Africa     3916.881571    40606052   \nAmerican Samoa                East Asia & Pacific    11834.745230       55599   \nAndorra                     Europe & Central Asia    36988.622030       77281   \n...                                           ...             ...         ...   \nVirgin Islands (U.S.)   Latin America & Caribbean    13445.593416      102951   \nWest Bank and Gaza     Middle East & North Africa     2943.404534     4551566   \nYemen, Rep.            Middle East & North Africa      990.334774    27584213   \nZambia                         Sub-Saharan Africa     1269.573537    16591390   \nZimbabwe                       Sub-Saharan Africa     1029.076649    16150362   \n\n                        co2_emission       area     density  \ncountry_name                                                 \nAfghanistan              9809.225000   652860.0   53.083405  \nAlbania                  5716.853000    28750.0  100.038296  \nAlgeria                145400.217000  2381740.0   17.048902  \nAmerican Samoa         165114.116337      200.0  277.995000  \nAndorra                   462.042000      470.0  164.427660  \n...                              ...        ...         ...  \nVirgin Islands (U.S.)  165114.116337      350.0  294.145714  \nWest Bank and Gaza     165114.116337     6020.0  756.074086  \nYemen, Rep.             22698.730000   527970.0   52.245796  \nZambia                   4503.076000   752610.0   22.045136  \nZimbabwe                12020.426000   390760.0   41.330643  \n\n[217 rows x 6 columns]",
      "text/html": "<div>\n<style scoped>\n    .dataframe tbody tr th:only-of-type {\n        vertical-align: middle;\n    }\n\n    .dataframe tbody tr th {\n        vertical-align: top;\n    }\n\n    .dataframe thead th {\n        text-align: right;\n    }\n</style>\n<table border=\"1\" class=\"dataframe\">\n  <thead>\n    <tr style=\"text-align: right;\">\n      <th></th>\n      <th>region</th>\n      <th>gdp_per_capita</th>\n      <th>population</th>\n      <th>co2_emission</th>\n      <th>area</th>\n      <th>density</th>\n    </tr>\n    <tr>\n      <th>country_name</th>\n      <th></th>\n      <th></th>\n      <th></th>\n      <th></th>\n      <th></th>\n      <th></th>\n    </tr>\n  </thead>\n  <tbody>\n    <tr>\n      <th>Afghanistan</th>\n      <td>South Asia</td>\n      <td>561.778746</td>\n      <td>34656032</td>\n      <td>9809.225000</td>\n      <td>652860.0</td>\n      <td>53.083405</td>\n    </tr>\n    <tr>\n      <th>Albania</th>\n      <td>Europe &amp; Central Asia</td>\n      <td>4124.982390</td>\n      <td>2876101</td>\n      <td>5716.853000</td>\n      <td>28750.0</td>\n      <td>100.038296</td>\n    </tr>\n    <tr>\n      <th>Algeria</th>\n      <td>Middle East &amp; North Africa</td>\n      <td>3916.881571</td>\n      <td>40606052</td>\n      <td>145400.217000</td>\n      <td>2381740.0</td>\n      <td>17.048902</td>\n    </tr>\n    <tr>\n      <th>American Samoa</th>\n      <td>East Asia &amp; Pacific</td>\n      <td>11834.745230</td>\n      <td>55599</td>\n      <td>165114.116337</td>\n      <td>200.0</td>\n      <td>277.995000</td>\n    </tr>\n    <tr>\n      <th>Andorra</th>\n      <td>Europe &amp; Central Asia</td>\n      <td>36988.622030</td>\n      <td>77281</td>\n      <td>462.042000</td>\n      <td>470.0</td>\n      <td>164.427660</td>\n    </tr>\n    <tr>\n      <th>...</th>\n      <td>...</td>\n      <td>...</td>\n      <td>...</td>\n      <td>...</td>\n      <td>...</td>\n      <td>...</td>\n    </tr>\n    <tr>\n      <th>Virgin Islands (U.S.)</th>\n      <td>Latin America &amp; Caribbean</td>\n      <td>13445.593416</td>\n      <td>102951</td>\n      <td>165114.116337</td>\n      <td>350.0</td>\n      <td>294.145714</td>\n    </tr>\n    <tr>\n      <th>West Bank and Gaza</th>\n      <td>Middle East &amp; North Africa</td>\n      <td>2943.404534</td>\n      <td>4551566</td>\n      <td>165114.116337</td>\n      <td>6020.0</td>\n      <td>756.074086</td>\n    </tr>\n    <tr>\n      <th>Yemen, Rep.</th>\n      <td>Middle East &amp; North Africa</td>\n      <td>990.334774</td>\n      <td>27584213</td>\n      <td>22698.730000</td>\n      <td>527970.0</td>\n      <td>52.245796</td>\n    </tr>\n    <tr>\n      <th>Zambia</th>\n      <td>Sub-Saharan Africa</td>\n      <td>1269.573537</td>\n      <td>16591390</td>\n      <td>4503.076000</td>\n      <td>752610.0</td>\n      <td>22.045136</td>\n    </tr>\n    <tr>\n      <th>Zimbabwe</th>\n      <td>Sub-Saharan Africa</td>\n      <td>1029.076649</td>\n      <td>16150362</td>\n      <td>12020.426000</td>\n      <td>390760.0</td>\n      <td>41.330643</td>\n    </tr>\n  </tbody>\n</table>\n<p>217 rows × 6 columns</p>\n</div>"
     },
     "execution_count": 2,
     "metadata": {},
     "output_type": "execute_result"
    }
   ],
   "source": [
    "df = pd.read_csv('Data2.csv', on_bad_lines='skip', encoding='cp1252', delimiter=';')\n",
    "df.columns = ['country_name', 'region', 'gdp_per_capita', 'population', 'co2_emission', 'area']\n",
    "df.set_index('country_name', inplace=True)\n",
    "df.gdp_per_capita = df.gdp_per_capita.astype(str).str.replace(',', '.').astype(float)\n",
    "df.co2_emission = df.co2_emission.astype(str).str.replace(',', '.').astype(float)\n",
    "df.area = df.area.astype(str).str.replace(',', '.').astype(float)\n",
    "df.gdp_per_capita = df.gdp_per_capita.abs()\n",
    "df.area = df.area.abs()\n",
    "df.gdp_per_capita.fillna(df.gdp_per_capita.mean(), inplace=True)\n",
    "df.population.fillna(df.population.mean(), inplace=True)\n",
    "df.co2_emission.fillna(df.co2_emission.mean(), inplace=True)\n",
    "df.population = df.population.astype(int)\n",
    "df['density'] = df.population / df.area\n",
    "df"
   ],
   "metadata": {
    "collapsed": false,
    "ExecuteTime": {
     "start_time": "2023-04-07T01:27:28.959023Z",
     "end_time": "2023-04-07T01:27:28.998811Z"
    }
   }
  },
  {
   "cell_type": "code",
   "execution_count": 3,
   "outputs": [
    {
     "data": {
      "text/plain": "array([[   561.7787463 ],\n       [  4124.98239   ],\n       [  3916.881571  ],\n       [ 11834.74523   ],\n       [ 36988.62203   ],\n       [  3308.700233  ],\n       [ 14462.17628   ],\n       [ 12440.32098   ],\n       [  3614.688357  ],\n       [ 13445.59341606],\n       [ 49755.31548   ],\n       [ 44757.6349    ],\n       [  3878.709257  ],\n       [ 28785.47767   ],\n       [ 22579.09342   ],\n       [  1358.779029  ],\n       [ 15891.62655   ],\n       [  4989.427763  ],\n       [ 41271.48215   ],\n       [  4744.736397  ],\n       [   789.4404107 ],\n       [ 13445.59341606],\n       [  2773.547135  ],\n       [  3104.956089  ],\n       [  4808.405425  ],\n       [  6924.149775  ],\n       [  8649.948492  ],\n       [ 13445.59341606],\n       [ 26939.41751   ],\n       [  7469.025247  ],\n       [   627.1030788 ],\n       [   285.7274421 ],\n       [  2997.75268   ],\n       [  1269.907238  ],\n       [  1374.514172  ],\n       [ 42183.2951    ],\n       [ 13445.59341606],\n       [   382.2131743 ],\n       [   664.2956519 ],\n       [ 13445.59341606],\n       [ 13792.92605   ],\n       [  8123.180873  ],\n       [  5805.605385  ],\n       [   775.0800846 ],\n       [   405.5425009 ],\n       [  1528.24472   ],\n       [ 11824.6381    ],\n       [  1534.973724  ],\n       [ 12149.18958   ],\n       [ 13445.59341606],\n       [ 13445.59341606],\n       [ 23541.48825   ],\n       [ 18483.71648   ],\n       [ 53578.75657   ],\n       [ 13445.59341606],\n       [  7906.721671  ],\n       [  6722.223536  ],\n       [  6018.526868  ],\n       [  3477.851743  ],\n       [  4223.584579  ],\n       [  8747.353473  ],\n       [ 13445.59341606],\n       [ 17736.8027    ],\n       [   706.7574751 ],\n       [ 13445.59341606],\n       [  5233.469423  ],\n       [ 43401.22834   ],\n       [ 36857.11923   ],\n       [ 13445.59341606],\n       [  7179.340661  ],\n       [   473.1904366 ],\n       [  3865.785693  ],\n       [ 42161.31966   ],\n       [  1513.461034  ],\n       [ 13445.59341606],\n       [ 17890.57494   ],\n       [ 13445.59341606],\n       [  9841.76405   ],\n       [ 35562.56753   ],\n       [  4146.744129  ],\n       [   661.5277734 ],\n       [   641.5959647 ],\n       [  4529.139412  ],\n       [   739.5954363 ],\n       [  2361.160205  ],\n       [ 43740.99288   ],\n       [ 12820.0882    ],\n       [ 59764.70538   ],\n       [  1709.591808  ],\n       [  3570.294888  ],\n       [  5219.109408  ],\n       [  4609.600694  ],\n       [ 64175.43824   ],\n       [ 13445.59341606],\n       [ 37180.52711   ],\n       [ 30661.22181   ],\n       [  4878.575791  ],\n       [ 38900.56931   ],\n       [  4087.937517  ],\n       [  7714.693568  ],\n       [  1455.359765  ],\n       [  1587.057869  ],\n       [ 13445.59341606],\n       [ 27538.80613   ],\n       [  3661.429847  ],\n       [ 27359.23033   ],\n       [  1077.603082  ],\n       [  2338.692157  ],\n       [ 14071.02723   ],\n       [  8257.294391  ],\n       [  1039.704072  ],\n       [   455.3707414 ],\n       [ 13445.59341606],\n       [ 13445.59341606],\n       [ 14900.7789    ],\n       [100738.6842    ],\n       [ 74017.18471   ],\n       [  5237.14767   ],\n       [   401.7422696 ],\n       [   300.3076651 ],\n       [  9508.23775   ],\n       [  9875.278428  ],\n       [   779.9448438 ],\n       [ 25145.39315   ],\n       [  3665.207477  ],\n       [  1101.901627  ],\n       [  9630.944028  ],\n       [  8208.555984  ],\n       [  3143.749107  ],\n       [  1900.226088  ],\n       [ 13445.59341606],\n       [  3694.082552  ],\n       [  7028.934799  ],\n       [  2892.775561  ],\n       [   382.0693304 ],\n       [  1195.515372  ],\n       [  4414.978947  ],\n       [  7821.298918  ],\n       [   729.1222515 ],\n       [ 45637.88675   ],\n       [ 13445.59341606],\n       [ 39412.15943   ],\n       [  2151.382047  ],\n       [ 13445.59341606],\n       [  2175.673442  ],\n       [ 22572.37882   ],\n       [ 70868.1225    ],\n       [ 14982.35792   ],\n       [  1443.625016  ],\n       [ 14428.14026   ],\n       [ 13680.23601   ],\n       [  2500.091116  ],\n       [  4077.742073  ],\n       [  6049.232578  ],\n       [  2951.071929  ],\n       [ 12414.09873   ],\n       [ 19838.02723   ],\n       [ 30790.10479   ],\n       [ 59324.33877   ],\n       [  9522.771041  ],\n       [  8748.368853  ],\n       [   702.8356016 ],\n       [  4030.013144  ],\n       [ 47908.56141   ],\n       [  1714.680184  ],\n       [ 20028.64821   ],\n       [   952.7683234 ],\n       [  5426.198279  ],\n       [ 15075.71944   ],\n       [   505.2045112 ],\n       [ 52962.49157   ],\n       [ 13445.59341606],\n       [ 16529.54097   ],\n       [ 21650.21276   ],\n       [  2005.483643  ],\n       [   434.2088097 ],\n       [  5274.546008  ],\n       [ 13445.59341606],\n       [ 26616.4881    ],\n       [  3909.989066  ],\n       [ 16596.82639   ],\n       [  9364.821525  ],\n       [ 13445.59341606],\n       [  7006.596196  ],\n       [  2415.038162  ],\n       [  5871.442003  ],\n       [  2770.199475  ],\n       [ 51844.76126   ],\n       [ 79887.51824   ],\n       [ 13445.59341606],\n       [   795.8438644 ],\n       [   877.507612  ],\n       [  5910.620932  ],\n       [  1405.387212  ],\n       [   578.4616936 ],\n       [  3748.641794  ],\n       [ 16040.52424   ],\n       [  3688.646375  ],\n       [ 10862.6004    ],\n       [  6389.334143  ],\n       [ 13445.59341606],\n       [  3083.615251  ],\n       [   580.3835385 ],\n       [  2185.728031  ],\n       [ 37622.20746   ],\n       [ 40367.03784   ],\n       [ 57638.15909   ],\n       [ 15220.56603   ],\n       [  2110.667754  ],\n       [  2860.566475  ],\n       [ 13445.59341606],\n       [  2170.648054  ],\n       [ 13445.59341606],\n       [  2943.404534  ],\n       [   990.334774  ],\n       [  1269.573537  ],\n       [  1029.076649  ]])"
     },
     "execution_count": 3,
     "metadata": {},
     "output_type": "execute_result"
    }
   ],
   "source": [
    "gdp_features = df['gdp_per_capita'].to_numpy().reshape(-1, 1)\n",
    "gdp_features"
   ],
   "metadata": {
    "collapsed": false,
    "ExecuteTime": {
     "start_time": "2023-04-07T01:27:29.001791Z",
     "end_time": "2023-04-07T01:27:29.042571Z"
    }
   }
  },
  {
   "cell_type": "code",
   "execution_count": 4,
   "outputs": [
    {
     "data": {
      "text/plain": "                     sse\nn_clusters              \n1           6.150152e+10\n2           1.580377e+10\n3           9.052527e+09\n4           4.492411e+09\n5           2.984519e+09\n6           1.933117e+09\n7           1.430037e+09\n8           9.406344e+08\n9           7.658671e+08\n10          6.027662e+08\n11          4.400069e+08\n12          3.331458e+08\n13          2.880841e+08",
      "text/html": "<div>\n<style scoped>\n    .dataframe tbody tr th:only-of-type {\n        vertical-align: middle;\n    }\n\n    .dataframe tbody tr th {\n        vertical-align: top;\n    }\n\n    .dataframe thead th {\n        text-align: right;\n    }\n</style>\n<table border=\"1\" class=\"dataframe\">\n  <thead>\n    <tr style=\"text-align: right;\">\n      <th></th>\n      <th>sse</th>\n    </tr>\n    <tr>\n      <th>n_clusters</th>\n      <th></th>\n    </tr>\n  </thead>\n  <tbody>\n    <tr>\n      <th>1</th>\n      <td>6.150152e+10</td>\n    </tr>\n    <tr>\n      <th>2</th>\n      <td>1.580377e+10</td>\n    </tr>\n    <tr>\n      <th>3</th>\n      <td>9.052527e+09</td>\n    </tr>\n    <tr>\n      <th>4</th>\n      <td>4.492411e+09</td>\n    </tr>\n    <tr>\n      <th>5</th>\n      <td>2.984519e+09</td>\n    </tr>\n    <tr>\n      <th>6</th>\n      <td>1.933117e+09</td>\n    </tr>\n    <tr>\n      <th>7</th>\n      <td>1.430037e+09</td>\n    </tr>\n    <tr>\n      <th>8</th>\n      <td>9.406344e+08</td>\n    </tr>\n    <tr>\n      <th>9</th>\n      <td>7.658671e+08</td>\n    </tr>\n    <tr>\n      <th>10</th>\n      <td>6.027662e+08</td>\n    </tr>\n    <tr>\n      <th>11</th>\n      <td>4.400069e+08</td>\n    </tr>\n    <tr>\n      <th>12</th>\n      <td>3.331458e+08</td>\n    </tr>\n    <tr>\n      <th>13</th>\n      <td>2.880841e+08</td>\n    </tr>\n  </tbody>\n</table>\n</div>"
     },
     "execution_count": 4,
     "metadata": {},
     "output_type": "execute_result"
    }
   ],
   "source": [
    "max_clusters = 13\n",
    "n_clusters_list = list(range(1, max_clusters + 1))\n",
    "sse = []\n",
    "\n",
    "for n_clusters in n_clusters_list:\n",
    "    kmeans = KMeans(n_clusters=n_clusters, n_init=10)\n",
    "    kmeans.fit(gdp_features)\n",
    "    sse.append(kmeans.inertia_)\n",
    "\n",
    "gdp_kmeans_results = pd.DataFrame.from_dict({\n",
    "    'n_clusters': n_clusters_list,\n",
    "    'sse': sse\n",
    "}).reset_index(drop=True).set_index('n_clusters')\n",
    "gdp_kmeans_results"
   ],
   "metadata": {
    "collapsed": false,
    "ExecuteTime": {
     "start_time": "2023-04-07T01:27:29.018993Z",
     "end_time": "2023-04-07T01:27:31.709985Z"
    }
   }
  },
  {
   "cell_type": "code",
   "execution_count": 5,
   "outputs": [
    {
     "data": {
      "text/plain": "<Figure size 640x480 with 1 Axes>",
      "image/png": "[encoded data removed]"
     },
     "metadata": {},
     "output_type": "display_data"
    }
   ],
   "source": [
    "gdp_kmeans_results.plot();"
   ],
   "metadata": {
    "collapsed": false,
    "ExecuteTime": {
     "start_time": "2023-04-07T01:27:31.710986Z",
     "end_time": "2023-04-07T01:27:31.991701Z"
    }
   }
  },
  {
   "cell_type": "code",
   "execution_count": 6,
   "outputs": [
    {
     "data": {
      "text/plain": "3"
     },
     "execution_count": 6,
     "metadata": {},
     "output_type": "execute_result"
    }
   ],
   "source": [
    "gdp_kl = KneeLocator(n_clusters_list, sse, curve='convex', direction='decreasing')\n",
    "gdp_kl.elbow"
   ],
   "metadata": {
    "collapsed": false,
    "ExecuteTime": {
     "start_time": "2023-04-07T01:27:31.993702Z",
     "end_time": "2023-04-07T01:27:32.007211Z"
    }
   }
  },
  {
   "cell_type": "code",
   "execution_count": 7,
   "outputs": [
    {
     "data": {
      "text/plain": "KMeans(n_clusters=3, n_init=10)",
      "text/html": "<style>#sk-container-id-1 {color: black;background-color: white;}#sk-container-id-1 pre{padding: 0;}#sk-container-id-1 div.sk-toggleable {background-color: white;}#sk-container-id-1 label.sk-toggleable__label {cursor: pointer;display: block;width: 100%;margin-bottom: 0;padding: 0.3em;box-sizing: border-box;text-align: center;}#sk-container-id-1 label.sk-toggleable__label-arrow:before {content: \"▸\";float: left;margin-right: 0.25em;color: #696969;}#sk-container-id-1 label.sk-toggleable__label-arrow:hover:before {color: black;}#sk-container-id-1 div.sk-estimator:hover label.sk-toggleable__label-arrow:before {color: black;}#sk-container-id-1 div.sk-toggleable__content {max-height: 0;max-width: 0;overflow: hidden;text-align: left;background-color: #f0f8ff;}#sk-container-id-1 div.sk-toggleable__content pre {margin: 0.2em;color: black;border-radius: 0.25em;background-color: #f0f8ff;}#sk-container-id-1 input.sk-toggleable__control:checked~div.sk-toggleable__content {max-height: 200px;max-width: 100%;overflow: auto;}#sk-container-id-1 input.sk-toggleable__control:checked~label.sk-toggleable__label-arrow:before {content: \"▾\";}#sk-container-id-1 div.sk-estimator input.sk-toggleable__control:checked~label.sk-toggleable__label {background-color: #d4ebff;}#sk-container-id-1 div.sk-label input.sk-toggleable__control:checked~label.sk-toggleable__label {background-color: #d4ebff;}#sk-container-id-1 input.sk-hidden--visually {border: 0;clip: rect(1px 1px 1px 1px);clip: rect(1px, 1px, 1px, 1px);height: 1px;margin: -1px;overflow: hidden;padding: 0;position: absolute;width: 1px;}#sk-container-id-1 div.sk-estimator {font-family: monospace;background-color: #f0f8ff;border: 1px dotted black;border-radius: 0.25em;box-sizing: border-box;margin-bottom: 0.5em;}#sk-container-id-1 div.sk-estimator:hover {background-color: #d4ebff;}#sk-container-id-1 div.sk-parallel-item::after {content: \"\";width: 100%;border-bottom: 1px solid gray;flex-grow: 1;}#sk-container-id-1 div.sk-label:hover label.sk-toggleable__label {background-color: #d4ebff;}#sk-container-id-1 div.sk-serial::before {content: \"\";position: absolute;border-left: 1px solid gray;box-sizing: border-box;top: 0;bottom: 0;left: 50%;z-index: 0;}#sk-container-id-1 div.sk-serial {display: flex;flex-direction: column;align-items: center;background-color: white;padding-right: 0.2em;padding-left: 0.2em;position: relative;}#sk-container-id-1 div.sk-item {position: relative;z-index: 1;}#sk-container-id-1 div.sk-parallel {display: flex;align-items: stretch;justify-content: center;background-color: white;position: relative;}#sk-container-id-1 div.sk-item::before, #sk-container-id-1 div.sk-parallel-item::before {content: \"\";position: absolute;border-left: 1px solid gray;box-sizing: border-box;top: 0;bottom: 0;left: 50%;z-index: -1;}#sk-container-id-1 div.sk-parallel-item {display: flex;flex-direction: column;z-index: 1;position: relative;background-color: white;}#sk-container-id-1 div.sk-parallel-item:first-child::after {align-self: flex-end;width: 50%;}#sk-container-id-1 div.sk-parallel-item:last-child::after {align-self: flex-start;width: 50%;}#sk-container-id-1 div.sk-parallel-item:only-child::after {width: 0;}#sk-container-id-1 div.sk-dashed-wrapped {border: 1px dashed gray;margin: 0 0.4em 0.5em 0.4em;box-sizing: border-box;padding-bottom: 0.4em;background-color: white;}#sk-container-id-1 div.sk-label label {font-family: monospace;font-weight: bold;display: inline-block;line-height: 1.2em;}#sk-container-id-1 div.sk-label-container {text-align: center;}#sk-container-id-1 div.sk-container {/* jupyter's `normalize.less` sets `[hidden] { display: none; }` but bootstrap.min.css set `[hidden] { display: none !important; }` so we also need the `!important` here to be able to override the default hidden behavior on the sphinx rendered scikit-learn.org. See: https://github.com/scikit-learn/scikit-learn/issues/21755 */display: inline-block !important;position: relative;}#sk-container-id-1 div.sk-text-repr-fallback {display: none;}</style><div id=\"sk-container-id-1\" class=\"sk-top-container\"><div class=\"sk-text-repr-fallback\"><pre>KMeans(n_clusters=3, n_init=10)</pre><b>In a Jupyter environment, please rerun this cell to show the HTML representation or trust the notebook. <br />On GitHub, the HTML representation is unable to render, please try loading this page with nbviewer.org.</b></div><div class=\"sk-container\" hidden><div class=\"sk-item\"><div class=\"sk-estimator sk-toggleable\"><input class=\"sk-toggleable__control sk-hidden--visually\" id=\"sk-estimator-id-1\" type=\"checkbox\" checked><label for=\"sk-estimator-id-1\" class=\"sk-toggleable__label sk-toggleable__label-arrow\">KMeans</label><div class=\"sk-toggleable__content\"><pre>KMeans(n_clusters=3, n_init=10)</pre></div></div></div></div></div>"
     },
     "execution_count": 7,
     "metadata": {},
     "output_type": "execute_result"
    }
   ],
   "source": [
    "gdp_kmeans = KMeans(n_clusters=gdp_kl.elbow, n_init=10)\n",
    "gdp_kmeans.fit(gdp_features)"
   ],
   "metadata": {
    "collapsed": false,
    "ExecuteTime": {
     "start_time": "2023-04-07T01:27:32.009721Z",
     "end_time": "2023-04-07T01:27:32.210086Z"
    }
   }
  },
  {
   "cell_type": "code",
   "execution_count": 8,
   "outputs": [
    {
     "data": {
      "text/plain": "array([2, 2, 2, 0, 1, 2, 0, 0, 2, 0, 1, 1, 2, 0, 0, 2, 0, 2, 1, 2, 2, 0,\n       2, 2, 2, 2, 2, 0, 0, 2, 2, 2, 2, 2, 2, 1, 0, 2, 2, 0, 0, 2, 2, 2,\n       2, 2, 0, 2, 0, 0, 0, 0, 0, 1, 0, 2, 2, 2, 2, 2, 2, 0, 0, 2, 0, 2,\n       1, 1, 0, 2, 2, 2, 1, 2, 0, 0, 0, 0, 1, 2, 2, 2, 2, 2, 2, 1, 0, 1,\n       2, 2, 2, 2, 1, 0, 1, 0, 2, 1, 2, 2, 2, 2, 0, 0, 2, 0, 2, 2, 0, 2,\n       2, 2, 0, 0, 0, 1, 1, 2, 2, 2, 2, 0, 2, 0, 2, 2, 2, 2, 2, 2, 0, 2,\n       2, 2, 2, 2, 2, 2, 2, 1, 0, 1, 2, 0, 2, 0, 1, 0, 2, 0, 0, 2, 2, 2,\n       2, 0, 0, 0, 1, 2, 2, 2, 2, 1, 2, 0, 2, 2, 0, 2, 1, 0, 0, 0, 2, 2,\n       2, 0, 0, 2, 0, 2, 0, 2, 2, 2, 2, 1, 1, 0, 2, 2, 2, 2, 2, 2, 0, 2,\n       0, 2, 0, 2, 2, 2, 1, 1, 1, 0, 2, 2, 0, 2, 0, 2, 2, 2, 2])"
     },
     "execution_count": 8,
     "metadata": {},
     "output_type": "execute_result"
    }
   ],
   "source": [
    "gdp_kmeans.labels_"
   ],
   "metadata": {
    "collapsed": false,
    "ExecuteTime": {
     "start_time": "2023-04-07T01:27:32.213099Z",
     "end_time": "2023-04-07T01:27:32.226175Z"
    }
   }
  },
  {
   "cell_type": "code",
   "execution_count": 9,
   "outputs": [
    {
     "data": {
      "text/plain": "array([ 66,  28, 123], dtype=int64)"
     },
     "execution_count": 9,
     "metadata": {},
     "output_type": "execute_result"
    }
   ],
   "source": [
    "_, gdp_countries_count = np.unique(gdp_kmeans.labels_, return_counts=True)\n",
    "gdp_countries_count"
   ],
   "metadata": {
    "collapsed": false,
    "ExecuteTime": {
     "start_time": "2023-04-07T01:27:32.229174Z",
     "end_time": "2023-04-07T01:27:32.256507Z"
    }
   }
  },
  {
   "cell_type": "code",
   "execution_count": 10,
   "outputs": [
    {
     "data": {
      "text/plain": "                                             region  gdp_per_capita  \\\ncountry_name                                                          \nAmerican Samoa                  East Asia & Pacific    11834.745230   \nAntigua and Barbuda       Latin America & Caribbean    14462.176280   \nArgentina                 Latin America & Caribbean    12440.320980   \nAruba                     Latin America & Caribbean    13445.593416   \nBahamas, The              Latin America & Caribbean    28785.477670   \n...                                             ...             ...   \nTurkey                        Europe & Central Asia    10862.600400   \nTurks and Caicos Islands  Latin America & Caribbean    13445.593416   \nUruguay                   Latin America & Caribbean    15220.566030   \nVenezuela, RB             Latin America & Caribbean    13445.593416   \nVirgin Islands (U.S.)     Latin America & Caribbean    13445.593416   \n\n                          population   co2_emission       area     density  \ncountry_name                                                                \nAmerican Samoa                 55599  165114.116337      200.0  277.995000  \nAntigua and Barbuda           100963     531.715000      440.0  229.461364  \nArgentina                   43847430  204024.546000  2780400.0   15.770188  \nAruba                         104822     872.746000      180.0  582.344444  \nBahamas, The                  391232    2416.553000    13880.0   28.186744  \n...                              ...            ...        ...         ...  \nTurkey                      79512426  345981.450000   785350.0  101.244574  \nTurks and Caicos Islands       34900     205.352000      950.0   36.736842  \nUruguay                      3444006    6747.280000   176220.0   19.543786  \nVenezuela, RB               31568179  185220.170000   912050.0   34.612334  \nVirgin Islands (U.S.)         102951  165114.116337      350.0  294.145714  \n\n[66 rows x 6 columns]",
      "text/html": "<div>\n<style scoped>\n    .dataframe tbody tr th:only-of-type {\n        vertical-align: middle;\n    }\n\n    .dataframe tbody tr th {\n        vertical-align: top;\n    }\n\n    .dataframe thead th {\n        text-align: right;\n    }\n</style>\n<table border=\"1\" class=\"dataframe\">\n  <thead>\n    <tr style=\"text-align: right;\">\n      <th></th>\n      <th>region</th>\n      <th>gdp_per_capita</th>\n      <th>population</th>\n      <th>co2_emission</th>\n      <th>area</th>\n      <th>density</th>\n    </tr>\n    <tr>\n      <th>country_name</th>\n      <th></th>\n      <th></th>\n      <th></th>\n      <th></th>\n      <th></th>\n      <th></th>\n    </tr>\n  </thead>\n  <tbody>\n    <tr>\n      <th>American Samoa</th>\n      <td>East Asia &amp; Pacific</td>\n      <td>11834.745230</td>\n      <td>55599</td>\n      <td>165114.116337</td>\n      <td>200.0</td>\n      <td>277.995000</td>\n    </tr>\n    <tr>\n      <th>Antigua and Barbuda</th>\n      <td>Latin America &amp; Caribbean</td>\n      <td>14462.176280</td>\n      <td>100963</td>\n      <td>531.715000</td>\n      <td>440.0</td>\n      <td>229.461364</td>\n    </tr>\n    <tr>\n      <th>Argentina</th>\n      <td>Latin America &amp; Caribbean</td>\n      <td>12440.320980</td>\n      <td>43847430</td>\n      <td>204024.546000</td>\n      <td>2780400.0</td>\n      <td>15.770188</td>\n    </tr>\n    <tr>\n      <th>Aruba</th>\n      <td>Latin America &amp; Caribbean</td>\n      <td>13445.593416</td>\n      <td>104822</td>\n      <td>872.746000</td>\n      <td>180.0</td>\n      <td>582.344444</td>\n    </tr>\n    <tr>\n      <th>Bahamas, The</th>\n      <td>Latin America &amp; Caribbean</td>\n      <td>28785.477670</td>\n      <td>391232</td>\n      <td>2416.553000</td>\n      <td>13880.0</td>\n      <td>28.186744</td>\n    </tr>\n    <tr>\n      <th>...</th>\n      <td>...</td>\n      <td>...</td>\n      <td>...</td>\n      <td>...</td>\n      <td>...</td>\n      <td>...</td>\n    </tr>\n    <tr>\n      <th>Turkey</th>\n      <td>Europe &amp; Central Asia</td>\n      <td>10862.600400</td>\n      <td>79512426</td>\n      <td>345981.450000</td>\n      <td>785350.0</td>\n      <td>101.244574</td>\n    </tr>\n    <tr>\n      <th>Turks and Caicos Islands</th>\n      <td>Latin America &amp; Caribbean</td>\n      <td>13445.593416</td>\n      <td>34900</td>\n      <td>205.352000</td>\n      <td>950.0</td>\n      <td>36.736842</td>\n    </tr>\n    <tr>\n      <th>Uruguay</th>\n      <td>Latin America &amp; Caribbean</td>\n      <td>15220.566030</td>\n      <td>3444006</td>\n      <td>6747.280000</td>\n      <td>176220.0</td>\n      <td>19.543786</td>\n    </tr>\n    <tr>\n      <th>Venezuela, RB</th>\n      <td>Latin America &amp; Caribbean</td>\n      <td>13445.593416</td>\n      <td>31568179</td>\n      <td>185220.170000</td>\n      <td>912050.0</td>\n      <td>34.612334</td>\n    </tr>\n    <tr>\n      <th>Virgin Islands (U.S.)</th>\n      <td>Latin America &amp; Caribbean</td>\n      <td>13445.593416</td>\n      <td>102951</td>\n      <td>165114.116337</td>\n      <td>350.0</td>\n      <td>294.145714</td>\n    </tr>\n  </tbody>\n</table>\n<p>66 rows × 6 columns</p>\n</div>"
     },
     "execution_count": 10,
     "metadata": {},
     "output_type": "execute_result"
    }
   ],
   "source": [
    "first_gdp_cluster = df[gdp_kmeans.labels_ == 0]\n",
    "first_gdp_cluster"
   ],
   "metadata": {
    "collapsed": false,
    "ExecuteTime": {
     "start_time": "2023-04-07T01:27:32.244078Z",
     "end_time": "2023-04-07T01:27:32.257507Z"
    }
   }
  },
  {
   "cell_type": "code",
   "execution_count": 11,
   "outputs": [
    {
     "data": {
      "text/plain": "                                          region  gdp_per_capita  population  \\\ncountry_name                                                                   \nAndorra                    Europe & Central Asia     36988.62203       77281   \nAustralia                    East Asia & Pacific     49755.31548    24127159   \nAustria                    Europe & Central Asia     44757.63490     8747358   \nBelgium                    Europe & Central Asia     41271.48215    11348159   \nCanada                             North America     42183.29510    36286425   \nDenmark                    Europe & Central Asia     53578.75657     5731118   \nFinland                    Europe & Central Asia     43401.22834     5495096   \nFrance                     Europe & Central Asia     36857.11923    66896109   \nGermany                    Europe & Central Asia     42161.31966    82667685   \nGuam                         East Asia & Pacific     35562.56753      162896   \nHong Kong SAR, China         East Asia & Pacific     43740.99288     7346700   \nIceland                    Europe & Central Asia     59764.70538      334252   \nIreland                    Europe & Central Asia     64175.43824     4773095   \nIsrael                Middle East & North Africa     37180.52711     8547100   \nJapan                        East Asia & Pacific     38900.56931   126994511   \nLuxembourg                 Europe & Central Asia    100738.68420      582972   \nMacao SAR, China             East Asia & Pacific     74017.18471      612167   \nNetherlands                Europe & Central Asia     45637.88675    17018408   \nNew Zealand                  East Asia & Pacific     39412.15943     4692700   \nNorway                     Europe & Central Asia     70868.12250     5232929   \nQatar                 Middle East & North Africa     59324.33877     2569804   \nSan Marino                 Europe & Central Asia     47908.56141       33203   \nSingapore                    East Asia & Pacific     52962.49157     5607283   \nSweden                     Europe & Central Asia     51844.76126     9903122   \nSwitzerland                Europe & Central Asia     79887.51824     8372098   \nUnited Arab Emirates  Middle East & North Africa     37622.20746     9269612   \nUnited Kingdom             Europe & Central Asia     40367.03784    65637239   \nUnited States                      North America     57638.15909   323127513   \n\n                      co2_emission       area       density  \ncountry_name                                                 \nAndorra               4.620420e+02      470.0    164.427660  \nAustralia             3.612618e+05  7741220.0      3.116713  \nAustria               5.871234e+04    83879.0    104.285435  \nBelgium               9.335082e+04    30530.0    371.705175  \nCanada                5.371935e+05  9984670.0      3.634214  \nDenmark               3.349804e+04    42922.0    133.524020  \nFinland               4.730063e+04   338420.0     16.237504  \nFrance                3.032756e+05   549087.0    121.831529  \nGermany               7.198834e+05   357380.0    231.315924  \nGuam                  1.651141e+05      540.0    301.659259  \nHong Kong SAR, China  4.622254e+04     1105.0   6648.597285  \nIceland               1.983847e+03   103000.0      3.245165  \nIreland               3.406643e+04    70280.0     67.915410  \nIsrael                6.460154e+04    22070.0    387.272315  \nJapan                 1.214048e+06   377962.0    335.998092  \nLuxembourg            9.658878e+03     2590.0    225.085714  \nMacao SAR, China      1.283450e+03       30.3  20203.531353  \nNetherlands           1.673032e+05    41540.0    409.687241  \nNew Zealand           3.466415e+04   267710.0     17.529043  \nNorway                4.762700e+04   385178.0     13.585742  \nQatar                 1.078538e+05    11610.0    221.344014  \nSan Marino            1.651141e+05       60.0    553.383333  \nSingapore             5.637279e+04      719.0   7798.724618  \nSweden                4.342095e+04   447420.0     22.133838  \nSwitzerland           3.530588e+04    41290.0    202.763333  \nUnited Arab Emirates  2.113695e+05    83600.0    110.880526  \nUnited Kingdom        4.198202e+05   243610.0    269.435733  \nUnited States         5.254279e+06  9831510.0     32.866519  ",
      "text/html": "<div>\n<style scoped>\n    .dataframe tbody tr th:only-of-type {\n        vertical-align: middle;\n    }\n\n    .dataframe tbody tr th {\n        vertical-align: top;\n    }\n\n    .dataframe thead th {\n        text-align: right;\n    }\n</style>\n<table border=\"1\" class=\"dataframe\">\n  <thead>\n    <tr style=\"text-align: right;\">\n      <th></th>\n      <th>region</th>\n      <th>gdp_per_capita</th>\n      <th>population</th>\n      <th>co2_emission</th>\n      <th>area</th>\n      <th>density</th>\n    </tr>\n    <tr>\n      <th>country_name</th>\n      <th></th>\n      <th></th>\n      <th></th>\n      <th></th>\n      <th></th>\n      <th></th>\n    </tr>\n  </thead>\n  <tbody>\n    <tr>\n      <th>Andorra</th>\n      <td>Europe &amp; Central Asia</td>\n      <td>36988.62203</td>\n      <td>77281</td>\n      <td>4.620420e+02</td>\n      <td>470.0</td>\n      <td>164.427660</td>\n    </tr>\n    <tr>\n      <th>Australia</th>\n      <td>East Asia &amp; Pacific</td>\n      <td>49755.31548</td>\n      <td>24127159</td>\n      <td>3.612618e+05</td>\n      <td>7741220.0</td>\n      <td>3.116713</td>\n    </tr>\n    <tr>\n      <th>Austria</th>\n      <td>Europe &amp; Central Asia</td>\n      <td>44757.63490</td>\n      <td>8747358</td>\n      <td>5.871234e+04</td>\n      <td>83879.0</td>\n      <td>104.285435</td>\n    </tr>\n    <tr>\n      <th>Belgium</th>\n      <td>Europe &amp; Central Asia</td>\n      <td>41271.48215</td>\n      <td>11348159</td>\n      <td>9.335082e+04</td>\n      <td>30530.0</td>\n      <td>371.705175</td>\n    </tr>\n    <tr>\n      <th>Canada</th>\n      <td>North America</td>\n      <td>42183.29510</td>\n      <td>36286425</td>\n      <td>5.371935e+05</td>\n      <td>9984670.0</td>\n      <td>3.634214</td>\n    </tr>\n    <tr>\n      <th>Denmark</th>\n      <td>Europe &amp; Central Asia</td>\n      <td>53578.75657</td>\n      <td>5731118</td>\n      <td>3.349804e+04</td>\n      <td>42922.0</td>\n      <td>133.524020</td>\n    </tr>\n    <tr>\n      <th>Finland</th>\n      <td>Europe &amp; Central Asia</td>\n      <td>43401.22834</td>\n      <td>5495096</td>\n      <td>4.730063e+04</td>\n      <td>338420.0</td>\n      <td>16.237504</td>\n    </tr>\n    <tr>\n      <th>France</th>\n      <td>Europe &amp; Central Asia</td>\n      <td>36857.11923</td>\n      <td>66896109</td>\n      <td>3.032756e+05</td>\n      <td>549087.0</td>\n      <td>121.831529</td>\n    </tr>\n    <tr>\n      <th>Germany</th>\n      <td>Europe &amp; Central Asia</td>\n      <td>42161.31966</td>\n      <td>82667685</td>\n      <td>7.198834e+05</td>\n      <td>357380.0</td>\n      <td>231.315924</td>\n    </tr>\n    <tr>\n      <th>Guam</th>\n      <td>East Asia &amp; Pacific</td>\n      <td>35562.56753</td>\n      <td>162896</td>\n      <td>1.651141e+05</td>\n      <td>540.0</td>\n      <td>301.659259</td>\n    </tr>\n    <tr>\n      <th>Hong Kong SAR, China</th>\n      <td>East Asia &amp; Pacific</td>\n      <td>43740.99288</td>\n      <td>7346700</td>\n      <td>4.622254e+04</td>\n      <td>1105.0</td>\n      <td>6648.597285</td>\n    </tr>\n    <tr>\n      <th>Iceland</th>\n      <td>Europe &amp; Central Asia</td>\n      <td>59764.70538</td>\n      <td>334252</td>\n      <td>1.983847e+03</td>\n      <td>103000.0</td>\n      <td>3.245165</td>\n    </tr>\n    <tr>\n      <th>Ireland</th>\n      <td>Europe &amp; Central Asia</td>\n      <td>64175.43824</td>\n      <td>4773095</td>\n      <td>3.406643e+04</td>\n      <td>70280.0</td>\n      <td>67.915410</td>\n    </tr>\n    <tr>\n      <th>Israel</th>\n      <td>Middle East &amp; North Africa</td>\n      <td>37180.52711</td>\n      <td>8547100</td>\n      <td>6.460154e+04</td>\n      <td>22070.0</td>\n      <td>387.272315</td>\n    </tr>\n    <tr>\n      <th>Japan</th>\n      <td>East Asia &amp; Pacific</td>\n      <td>38900.56931</td>\n      <td>126994511</td>\n      <td>1.214048e+06</td>\n      <td>377962.0</td>\n      <td>335.998092</td>\n    </tr>\n    <tr>\n      <th>Luxembourg</th>\n      <td>Europe &amp; Central Asia</td>\n      <td>100738.68420</td>\n      <td>582972</td>\n      <td>9.658878e+03</td>\n      <td>2590.0</td>\n      <td>225.085714</td>\n    </tr>\n    <tr>\n      <th>Macao SAR, China</th>\n      <td>East Asia &amp; Pacific</td>\n      <td>74017.18471</td>\n      <td>612167</td>\n      <td>1.283450e+03</td>\n      <td>30.3</td>\n      <td>20203.531353</td>\n    </tr>\n    <tr>\n      <th>Netherlands</th>\n      <td>Europe &amp; Central Asia</td>\n      <td>45637.88675</td>\n      <td>17018408</td>\n      <td>1.673032e+05</td>\n      <td>41540.0</td>\n      <td>409.687241</td>\n    </tr>\n    <tr>\n      <th>New Zealand</th>\n      <td>East Asia &amp; Pacific</td>\n      <td>39412.15943</td>\n      <td>4692700</td>\n      <td>3.466415e+04</td>\n      <td>267710.0</td>\n      <td>17.529043</td>\n    </tr>\n    <tr>\n      <th>Norway</th>\n      <td>Europe &amp; Central Asia</td>\n      <td>70868.12250</td>\n      <td>5232929</td>\n      <td>4.762700e+04</td>\n      <td>385178.0</td>\n      <td>13.585742</td>\n    </tr>\n    <tr>\n      <th>Qatar</th>\n      <td>Middle East &amp; North Africa</td>\n      <td>59324.33877</td>\n      <td>2569804</td>\n      <td>1.078538e+05</td>\n      <td>11610.0</td>\n      <td>221.344014</td>\n    </tr>\n    <tr>\n      <th>San Marino</th>\n      <td>Europe &amp; Central Asia</td>\n      <td>47908.56141</td>\n      <td>33203</td>\n      <td>1.651141e+05</td>\n      <td>60.0</td>\n      <td>553.383333</td>\n    </tr>\n    <tr>\n      <th>Singapore</th>\n      <td>East Asia &amp; Pacific</td>\n      <td>52962.49157</td>\n      <td>5607283</td>\n      <td>5.637279e+04</td>\n      <td>719.0</td>\n      <td>7798.724618</td>\n    </tr>\n    <tr>\n      <th>Sweden</th>\n      <td>Europe &amp; Central Asia</td>\n      <td>51844.76126</td>\n      <td>9903122</td>\n      <td>4.342095e+04</td>\n      <td>447420.0</td>\n      <td>22.133838</td>\n    </tr>\n    <tr>\n      <th>Switzerland</th>\n      <td>Europe &amp; Central Asia</td>\n      <td>79887.51824</td>\n      <td>8372098</td>\n      <td>3.530588e+04</td>\n      <td>41290.0</td>\n      <td>202.763333</td>\n    </tr>\n    <tr>\n      <th>United Arab Emirates</th>\n      <td>Middle East &amp; North Africa</td>\n      <td>37622.20746</td>\n      <td>9269612</td>\n      <td>2.113695e+05</td>\n      <td>83600.0</td>\n      <td>110.880526</td>\n    </tr>\n    <tr>\n      <th>United Kingdom</th>\n      <td>Europe &amp; Central Asia</td>\n      <td>40367.03784</td>\n      <td>65637239</td>\n      <td>4.198202e+05</td>\n      <td>243610.0</td>\n      <td>269.435733</td>\n    </tr>\n    <tr>\n      <th>United States</th>\n      <td>North America</td>\n      <td>57638.15909</td>\n      <td>323127513</td>\n      <td>5.254279e+06</td>\n      <td>9831510.0</td>\n      <td>32.866519</td>\n    </tr>\n  </tbody>\n</table>\n</div>"
     },
     "execution_count": 11,
     "metadata": {},
     "output_type": "execute_result"
    }
   ],
   "source": [
    "second_gdp_cluster = df[gdp_kmeans.labels_ == 1]\n",
    "second_gdp_cluster"
   ],
   "metadata": {
    "collapsed": false,
    "ExecuteTime": {
     "start_time": "2023-04-07T01:27:32.260027Z",
     "end_time": "2023-04-07T01:27:32.331133Z"
    }
   }
  },
  {
   "cell_type": "code",
   "execution_count": 12,
   "outputs": [
    {
     "data": {
      "text/plain": "                                        region  gdp_per_capita  population  \\\ncountry_name                                                                 \nAfghanistan                         South Asia      561.778746    34656032   \nAlbania                  Europe & Central Asia     4124.982390     2876101   \nAlgeria             Middle East & North Africa     3916.881571    40606052   \nAngola                      Sub-Saharan Africa     3308.700233    28813463   \nArmenia                  Europe & Central Asia     3614.688357     2924816   \n...                                        ...             ...         ...   \nVietnam                    East Asia & Pacific     2170.648054    92701100   \nWest Bank and Gaza  Middle East & North Africa     2943.404534     4551566   \nYemen, Rep.         Middle East & North Africa      990.334774    27584213   \nZambia                      Sub-Saharan Africa     1269.573537    16591390   \nZimbabwe                    Sub-Saharan Africa     1029.076649    16150362   \n\n                     co2_emission       area     density  \ncountry_name                                              \nAfghanistan           9809.225000   652860.0   53.083405  \nAlbania               5716.853000    28750.0  100.038296  \nAlgeria             145400.217000  2381740.0   17.048902  \nAngola               34763.160000  1246700.0   23.111786  \nArmenia               5529.836000    29740.0   98.346200  \n...                           ...        ...         ...  \nVietnam             166910.839000   330967.0  280.091671  \nWest Bank and Gaza  165114.116337     6020.0  756.074086  \nYemen, Rep.          22698.730000   527970.0   52.245796  \nZambia                4503.076000   752610.0   22.045136  \nZimbabwe             12020.426000   390760.0   41.330643  \n\n[123 rows x 6 columns]",
      "text/html": "<div>\n<style scoped>\n    .dataframe tbody tr th:only-of-type {\n        vertical-align: middle;\n    }\n\n    .dataframe tbody tr th {\n        vertical-align: top;\n    }\n\n    .dataframe thead th {\n        text-align: right;\n    }\n</style>\n<table border=\"1\" class=\"dataframe\">\n  <thead>\n    <tr style=\"text-align: right;\">\n      <th></th>\n      <th>region</th>\n      <th>gdp_per_capita</th>\n      <th>population</th>\n      <th>co2_emission</th>\n      <th>area</th>\n      <th>density</th>\n    </tr>\n    <tr>\n      <th>country_name</th>\n      <th></th>\n      <th></th>\n      <th></th>\n      <th></th>\n      <th></th>\n      <th></th>\n    </tr>\n  </thead>\n  <tbody>\n    <tr>\n      <th>Afghanistan</th>\n      <td>South Asia</td>\n      <td>561.778746</td>\n      <td>34656032</td>\n      <td>9809.225000</td>\n      <td>652860.0</td>\n      <td>53.083405</td>\n    </tr>\n    <tr>\n      <th>Albania</th>\n      <td>Europe &amp; Central Asia</td>\n      <td>4124.982390</td>\n      <td>2876101</td>\n      <td>5716.853000</td>\n      <td>28750.0</td>\n      <td>100.038296</td>\n    </tr>\n    <tr>\n      <th>Algeria</th>\n      <td>Middle East &amp; North Africa</td>\n      <td>3916.881571</td>\n      <td>40606052</td>\n      <td>145400.217000</td>\n      <td>2381740.0</td>\n      <td>17.048902</td>\n    </tr>\n    <tr>\n      <th>Angola</th>\n      <td>Sub-Saharan Africa</td>\n      <td>3308.700233</td>\n      <td>28813463</td>\n      <td>34763.160000</td>\n      <td>1246700.0</td>\n      <td>23.111786</td>\n    </tr>\n    <tr>\n      <th>Armenia</th>\n      <td>Europe &amp; Central Asia</td>\n      <td>3614.688357</td>\n      <td>2924816</td>\n      <td>5529.836000</td>\n      <td>29740.0</td>\n      <td>98.346200</td>\n    </tr>\n    <tr>\n      <th>...</th>\n      <td>...</td>\n      <td>...</td>\n      <td>...</td>\n      <td>...</td>\n      <td>...</td>\n      <td>...</td>\n    </tr>\n    <tr>\n      <th>Vietnam</th>\n      <td>East Asia &amp; Pacific</td>\n      <td>2170.648054</td>\n      <td>92701100</td>\n      <td>166910.839000</td>\n      <td>330967.0</td>\n      <td>280.091671</td>\n    </tr>\n    <tr>\n      <th>West Bank and Gaza</th>\n      <td>Middle East &amp; North Africa</td>\n      <td>2943.404534</td>\n      <td>4551566</td>\n      <td>165114.116337</td>\n      <td>6020.0</td>\n      <td>756.074086</td>\n    </tr>\n    <tr>\n      <th>Yemen, Rep.</th>\n      <td>Middle East &amp; North Africa</td>\n      <td>990.334774</td>\n      <td>27584213</td>\n      <td>22698.730000</td>\n      <td>527970.0</td>\n      <td>52.245796</td>\n    </tr>\n    <tr>\n      <th>Zambia</th>\n      <td>Sub-Saharan Africa</td>\n      <td>1269.573537</td>\n      <td>16591390</td>\n      <td>4503.076000</td>\n      <td>752610.0</td>\n      <td>22.045136</td>\n    </tr>\n    <tr>\n      <th>Zimbabwe</th>\n      <td>Sub-Saharan Africa</td>\n      <td>1029.076649</td>\n      <td>16150362</td>\n      <td>12020.426000</td>\n      <td>390760.0</td>\n      <td>41.330643</td>\n    </tr>\n  </tbody>\n</table>\n<p>123 rows × 6 columns</p>\n</div>"
     },
     "execution_count": 12,
     "metadata": {},
     "output_type": "execute_result"
    }
   ],
   "source": [
    "third_gdp_cluster = df[gdp_kmeans.labels_ == 2]\n",
    "third_gdp_cluster"
   ],
   "metadata": {
    "collapsed": false,
    "ExecuteTime": {
     "start_time": "2023-04-07T01:27:32.294040Z",
     "end_time": "2023-04-07T01:27:32.432461Z"
    }
   }
  },
  {
   "cell_type": "code",
   "execution_count": 13,
   "outputs": [
    {
     "data": {
      "text/plain": "region\nLatin America & Caribbean     30790.104790\nEurope & Central Asia         30661.221810\nEast Asia & Pacific           27538.806130\nMiddle East & North Africa    27359.230330\nSub-Saharan Africa            15075.719440\nNorth America                 13445.593416\nSouth Asia                     9875.278428\nName: gdp_per_capita, dtype: float64"
     },
     "execution_count": 13,
     "metadata": {},
     "output_type": "execute_result"
    }
   ],
   "source": [
    "first_gdp_cluster.groupby('region').gdp_per_capita.max().sort_values(ascending=False)"
   ],
   "metadata": {
    "collapsed": false,
    "ExecuteTime": {
     "start_time": "2023-04-07T01:27:32.323626Z",
     "end_time": "2023-04-07T01:27:32.432461Z"
    }
   }
  },
  {
   "cell_type": "code",
   "execution_count": 14,
   "outputs": [
    {
     "data": {
      "text/plain": "region\nEurope & Central Asia         100738.68420\nEast Asia & Pacific            74017.18471\nMiddle East & North Africa     59324.33877\nNorth America                  57638.15909\nName: gdp_per_capita, dtype: float64"
     },
     "execution_count": 14,
     "metadata": {},
     "output_type": "execute_result"
    }
   ],
   "source": [
    "second_gdp_cluster.groupby('region').gdp_per_capita.max().sort_values(ascending=False)"
   ],
   "metadata": {
    "collapsed": false,
    "ExecuteTime": {
     "start_time": "2023-04-07T01:27:32.339135Z",
     "end_time": "2023-04-07T01:27:32.452485Z"
    }
   }
  },
  {
   "cell_type": "code",
   "execution_count": 15,
   "outputs": [
    {
     "data": {
      "text/plain": "region\nSub-Saharan Africa            9630.944028\nEurope & Central Asia         9522.771041\nEast Asia & Pacific           9508.237750\nLatin America & Caribbean     9364.821525\nMiddle East & North Africa    8257.294391\nSouth Asia                    3909.989066\nName: gdp_per_capita, dtype: float64"
     },
     "execution_count": 15,
     "metadata": {},
     "output_type": "execute_result"
    }
   ],
   "source": [
    "third_gdp_cluster.groupby('region').gdp_per_capita.max().sort_values(ascending=False)"
   ],
   "metadata": {
    "collapsed": false,
    "ExecuteTime": {
     "start_time": "2023-04-07T01:27:32.354935Z",
     "end_time": "2023-04-07T01:27:32.597291Z"
    }
   }
  },
  {
   "cell_type": "code",
   "execution_count": 16,
   "outputs": [
    {
     "data": {
      "text/plain": "array([[5.30834053e+01],\n       [1.00038296e+02],\n       [1.70489021e+01],\n       [2.77995000e+02],\n       [1.64427660e+02],\n       [2.31117855e+01],\n       [2.29461364e+02],\n       [1.57701877e+01],\n       [9.83462004e+01],\n       [5.82344444e+02],\n       [3.11671274e+00],\n       [1.04285435e+02],\n       [1.12728337e+02],\n       [2.81867435e+01],\n       [1.84847082e+03],\n       [1.10378351e+03],\n       [6.62781395e+02],\n       [4.57953757e+01],\n       [3.71705175e+02],\n       [1.59753592e+01],\n       [9.47394388e+01],\n       [1.30662000e+03],\n       [2.07783768e+01],\n       [9.91086858e+00],\n       [6.86743995e+01],\n       [3.86822065e+00],\n       [2.43845084e+01],\n       [2.04406667e+02],\n       [7.33441941e+01],\n       [6.42146126e+01],\n       [6.79980782e+01],\n       [3.78157276e+02],\n       [1.33885856e+02],\n       [8.70656761e+01],\n       [4.92999937e+01],\n       [3.63421375e+00],\n       [2.30170455e+02],\n       [7.37523034e+00],\n       [1.12558746e+01],\n       [8.66005263e+02],\n       [2.36871429e+01],\n       [1.44167921e+02],\n       [4.26130603e+01],\n       [4.27512628e+02],\n       [3.35781893e+01],\n       [1.49877807e+01],\n       [9.50542857e+01],\n       [7.34848322e+01],\n       [7.36985333e+01],\n       [1.04441045e+02],\n       [3.60358108e+02],\n       [1.26500000e+02],\n       [1.33911918e+02],\n       [1.33524020e+02],\n       [4.06178017e+01],\n       [9.80573333e+01],\n       [2.18795788e+02],\n       [6.39117994e+01],\n       [9.55501333e+01],\n       [3.01555228e+02],\n       [4.35468806e+01],\n       [2.91858495e+02],\n       [2.91063675e+01],\n       [9.27313194e+01],\n       [3.51840974e+01],\n       [4.91932129e+01],\n       [1.62375037e+01],\n       [1.21831529e+02],\n       [7.00520000e+01],\n       [7.39636866e+00],\n       [1.80398319e+02],\n       [5.33615495e+01],\n       [2.31315924e+02],\n       [1.18247372e+02],\n       [3.44080000e+03],\n       [8.14393756e+01],\n       [1.36888781e-01],\n       [3.15638235e+02],\n       [3.01659259e+02],\n       [1.52286427e+02],\n       [5.04186285e+01],\n       [5.02545807e+01],\n       [3.59726008e+00],\n       [3.90894919e+02],\n       [8.10104632e+01],\n       [6.64859729e+03],\n       [1.05535397e+02],\n       [3.24516505e+00],\n       [4.02819295e+02],\n       [1.36643058e+02],\n       [4.60003026e+01],\n       [8.55133249e+01],\n       [6.79154098e+01],\n       [1.46907018e+02],\n       [3.87272315e+02],\n       [2.01103703e+02],\n       [2.62179709e+02],\n       [3.35998092e+02],\n       [1.05864330e+02],\n       [6.53125580e+00],\n       [8.35011579e+01],\n       [1.41228395e+02],\n       [2.10458105e+02],\n       [5.11026197e+02],\n       [1.66822816e+02],\n       [2.27417733e+02],\n       [3.04212574e+01],\n       [2.85403421e+01],\n       [3.03988835e+01],\n       [5.74800766e+02],\n       [7.25896245e+01],\n       [4.14278800e+01],\n       [3.57664674e+00],\n       [2.35412500e+02],\n       [4.39956193e+01],\n       [2.25085714e+02],\n       [2.02035314e+04],\n       [8.09492804e+01],\n       [4.23884947e+01],\n       [1.52697291e+02],\n       [9.42783102e+01],\n       [1.39164000e+03],\n       [1.45097421e+01],\n       [1.36545937e+03],\n       [2.94811111e+02],\n       [4.17290967e+00],\n       [6.19349510e+02],\n       [6.49265534e+01],\n       [1.49910000e+02],\n       [1.04933530e+02],\n       [1.92495000e+04],\n       [1.93552796e+00],\n       [4.50963794e+01],\n       [7.89985130e+01],\n       [3.60647952e+01],\n       [7.81643580e+01],\n       [3.00830169e+00],\n       [6.52450000e+02],\n       [1.96920580e+02],\n       [4.09687241e+02],\n       [1.49623251e+01],\n       [1.75290426e+01],\n       [4.71728772e+01],\n       [1.63164854e+01],\n       [2.01337606e+02],\n       [1.19615217e+02],\n       [1.35857422e+01],\n       [1.42964847e+01],\n       [2.42687446e+02],\n       [4.67456522e+01],\n       [5.34887165e+01],\n       [1.74682201e+01],\n       [1.65341732e+01],\n       [2.47224903e+01],\n       [3.44400740e+02],\n       [1.21363746e+02],\n       [1.11950241e+02],\n       [3.84589290e+02],\n       [2.21344014e+02],\n       [8.26599312e+01],\n       [8.44193973e+00],\n       [4.52449051e+02],\n       [6.87059859e+01],\n       [5.53383333e+02],\n       [2.08239583e+02],\n       [1.50141123e+01],\n       [7.83468761e+01],\n       [7.98711182e+01],\n       [2.05819565e+02],\n       [1.02298617e+02],\n       [7.79872462e+03],\n       [1.17661765e+03],\n       [1.10710798e+02],\n       [1.01867045e+02],\n       [2.07411419e+01],\n       [2.24539661e+01],\n       [4.58611464e+01],\n       [1.89820899e+01],\n       [9.17973653e+01],\n       [3.23167200e+02],\n       [2.10850000e+02],\n       [2.87120968e+02],\n       [5.87297794e+02],\n       [2.81135897e+02],\n       [2.10597654e+01],\n       [3.40842388e+00],\n       [7.73673963e+01],\n       [2.21338385e+01],\n       [2.02763333e+02],\n       [9.95272330e+01],\n       [6.17852464e+01],\n       [5.86637823e+01],\n       [1.34205476e+02],\n       [8.53174849e+01],\n       [1.33938616e+02],\n       [1.42829333e+02],\n       [2.66074464e+02],\n       [6.96977446e+01],\n       [1.01244574e+02],\n       [1.16011965e+01],\n       [3.67368421e+01],\n       [3.69900000e+02],\n       [1.71757255e+02],\n       [7.45665562e+01],\n       [1.10880526e+02],\n       [2.69435733e+02],\n       [3.28665193e+01],\n       [1.95437862e+01],\n       [7.11850693e+01],\n       [2.21822806e+01],\n       [3.46123338e+01],\n       [2.80091671e+02],\n       [2.94145714e+02],\n       [7.56074086e+02],\n       [5.22457962e+01],\n       [2.20451363e+01],\n       [4.13306428e+01]])"
     },
     "execution_count": 16,
     "metadata": {},
     "output_type": "execute_result"
    }
   ],
   "source": [
    "density_features = df['density'].to_numpy().reshape(-1, 1)\n",
    "density_features"
   ],
   "metadata": {
    "collapsed": false,
    "ExecuteTime": {
     "start_time": "2023-04-07T01:27:32.385495Z",
     "end_time": "2023-04-07T01:27:32.622361Z"
    }
   }
  },
  {
   "cell_type": "code",
   "execution_count": 17,
   "outputs": [
    {
     "data": {
      "text/plain": "                     sse\nn_clusters              \n1           8.750913e+08\n2           1.238429e+08\n3           2.474531e+07\n4           1.014364e+07\n5           5.840313e+06\n6           2.994677e+06\n7           2.103726e+06\n8           1.442330e+06\n9           9.872417e+05\n10          7.072497e+05\n11          4.518318e+05\n12          3.021762e+05\n13          2.414094e+05",
      "text/html": "<div>\n<style scoped>\n    .dataframe tbody tr th:only-of-type {\n        vertical-align: middle;\n    }\n\n    .dataframe tbody tr th {\n        vertical-align: top;\n    }\n\n    .dataframe thead th {\n        text-align: right;\n    }\n</style>\n<table border=\"1\" class=\"dataframe\">\n  <thead>\n    <tr style=\"text-align: right;\">\n      <th></th>\n      <th>sse</th>\n    </tr>\n    <tr>\n      <th>n_clusters</th>\n      <th></th>\n    </tr>\n  </thead>\n  <tbody>\n    <tr>\n      <th>1</th>\n      <td>8.750913e+08</td>\n    </tr>\n    <tr>\n      <th>2</th>\n      <td>1.238429e+08</td>\n    </tr>\n    <tr>\n      <th>3</th>\n      <td>2.474531e+07</td>\n    </tr>\n    <tr>\n      <th>4</th>\n      <td>1.014364e+07</td>\n    </tr>\n    <tr>\n      <th>5</th>\n      <td>5.840313e+06</td>\n    </tr>\n    <tr>\n      <th>6</th>\n      <td>2.994677e+06</td>\n    </tr>\n    <tr>\n      <th>7</th>\n      <td>2.103726e+06</td>\n    </tr>\n    <tr>\n      <th>8</th>\n      <td>1.442330e+06</td>\n    </tr>\n    <tr>\n      <th>9</th>\n      <td>9.872417e+05</td>\n    </tr>\n    <tr>\n      <th>10</th>\n      <td>7.072497e+05</td>\n    </tr>\n    <tr>\n      <th>11</th>\n      <td>4.518318e+05</td>\n    </tr>\n    <tr>\n      <th>12</th>\n      <td>3.021762e+05</td>\n    </tr>\n    <tr>\n      <th>13</th>\n      <td>2.414094e+05</td>\n    </tr>\n  </tbody>\n</table>\n</div>"
     },
     "execution_count": 17,
     "metadata": {},
     "output_type": "execute_result"
    }
   ],
   "source": [
    "max_clusters = 13\n",
    "n_clusters_list = list(range(1, max_clusters + 1))\n",
    "sse = []\n",
    "\n",
    "for n_clusters in n_clusters_list:\n",
    "    kmeans = KMeans(n_clusters=n_clusters, n_init=10)\n",
    "    kmeans.fit(density_features)\n",
    "    sse.append(kmeans.inertia_)\n",
    "\n",
    "density_kmeans_results = pd.DataFrame.from_dict({\n",
    "    'n_clusters': n_clusters_list,\n",
    "    'sse': sse\n",
    "}).reset_index(drop=True).set_index('n_clusters')\n",
    "density_kmeans_results"
   ],
   "metadata": {
    "collapsed": false,
    "ExecuteTime": {
     "start_time": "2023-04-07T01:27:32.405050Z",
     "end_time": "2023-04-07T01:27:35.195034Z"
    }
   }
  },
  {
   "cell_type": "code",
   "execution_count": 18,
   "outputs": [
    {
     "data": {
      "text/plain": "<Figure size 640x480 with 1 Axes>",
      "image/png": "[encoded data removed]"
     },
     "metadata": {},
     "output_type": "display_data"
    }
   ],
   "source": [
    "density_kmeans_results.plot();"
   ],
   "metadata": {
    "collapsed": false,
    "ExecuteTime": {
     "start_time": "2023-04-07T01:27:35.197034Z",
     "end_time": "2023-04-07T01:27:35.431734Z"
    }
   }
  },
  {
   "cell_type": "code",
   "execution_count": 19,
   "outputs": [
    {
     "data": {
      "text/plain": "3"
     },
     "execution_count": 19,
     "metadata": {},
     "output_type": "execute_result"
    }
   ],
   "source": [
    "density_kl = KneeLocator(n_clusters_list, sse, curve='convex', direction='decreasing')\n",
    "density_kl.elbow"
   ],
   "metadata": {
    "collapsed": false,
    "ExecuteTime": {
     "start_time": "2023-04-07T01:27:35.433735Z",
     "end_time": "2023-04-07T01:27:35.457512Z"
    }
   }
  },
  {
   "cell_type": "code",
   "execution_count": 20,
   "outputs": [
    {
     "data": {
      "text/plain": "KMeans(n_clusters=3, n_init=10)",
      "text/html": "<style>#sk-container-id-2 {color: black;background-color: white;}#sk-container-id-2 pre{padding: 0;}#sk-container-id-2 div.sk-toggleable {background-color: white;}#sk-container-id-2 label.sk-toggleable__label {cursor: pointer;display: block;width: 100%;margin-bottom: 0;padding: 0.3em;box-sizing: border-box;text-align: center;}#sk-container-id-2 label.sk-toggleable__label-arrow:before {content: \"▸\";float: left;margin-right: 0.25em;color: #696969;}#sk-container-id-2 label.sk-toggleable__label-arrow:hover:before {color: black;}#sk-container-id-2 div.sk-estimator:hover label.sk-toggleable__label-arrow:before {color: black;}#sk-container-id-2 div.sk-toggleable__content {max-height: 0;max-width: 0;overflow: hidden;text-align: left;background-color: #f0f8ff;}#sk-container-id-2 div.sk-toggleable__content pre {margin: 0.2em;color: black;border-radius: 0.25em;background-color: #f0f8ff;}#sk-container-id-2 input.sk-toggleable__control:checked~div.sk-toggleable__content {max-height: 200px;max-width: 100%;overflow: auto;}#sk-container-id-2 input.sk-toggleable__control:checked~label.sk-toggleable__label-arrow:before {content: \"▾\";}#sk-container-id-2 div.sk-estimator input.sk-toggleable__control:checked~label.sk-toggleable__label {background-color: #d4ebff;}#sk-container-id-2 div.sk-label input.sk-toggleable__control:checked~label.sk-toggleable__label {background-color: #d4ebff;}#sk-container-id-2 input.sk-hidden--visually {border: 0;clip: rect(1px 1px 1px 1px);clip: rect(1px, 1px, 1px, 1px);height: 1px;margin: -1px;overflow: hidden;padding: 0;position: absolute;width: 1px;}#sk-container-id-2 div.sk-estimator {font-family: monospace;background-color: #f0f8ff;border: 1px dotted black;border-radius: 0.25em;box-sizing: border-box;margin-bottom: 0.5em;}#sk-container-id-2 div.sk-estimator:hover {background-color: #d4ebff;}#sk-container-id-2 div.sk-parallel-item::after {content: \"\";width: 100%;border-bottom: 1px solid gray;flex-grow: 1;}#sk-container-id-2 div.sk-label:hover label.sk-toggleable__label {background-color: #d4ebff;}#sk-container-id-2 div.sk-serial::before {content: \"\";position: absolute;border-left: 1px solid gray;box-sizing: border-box;top: 0;bottom: 0;left: 50%;z-index: 0;}#sk-container-id-2 div.sk-serial {display: flex;flex-direction: column;align-items: center;background-color: white;padding-right: 0.2em;padding-left: 0.2em;position: relative;}#sk-container-id-2 div.sk-item {position: relative;z-index: 1;}#sk-container-id-2 div.sk-parallel {display: flex;align-items: stretch;justify-content: center;background-color: white;position: relative;}#sk-container-id-2 div.sk-item::before, #sk-container-id-2 div.sk-parallel-item::before {content: \"\";position: absolute;border-left: 1px solid gray;box-sizing: border-box;top: 0;bottom: 0;left: 50%;z-index: -1;}#sk-container-id-2 div.sk-parallel-item {display: flex;flex-direction: column;z-index: 1;position: relative;background-color: white;}#sk-container-id-2 div.sk-parallel-item:first-child::after {align-self: flex-end;width: 50%;}#sk-container-id-2 div.sk-parallel-item:last-child::after {align-self: flex-start;width: 50%;}#sk-container-id-2 div.sk-parallel-item:only-child::after {width: 0;}#sk-container-id-2 div.sk-dashed-wrapped {border: 1px dashed gray;margin: 0 0.4em 0.5em 0.4em;box-sizing: border-box;padding-bottom: 0.4em;background-color: white;}#sk-container-id-2 div.sk-label label {font-family: monospace;font-weight: bold;display: inline-block;line-height: 1.2em;}#sk-container-id-2 div.sk-label-container {text-align: center;}#sk-container-id-2 div.sk-container {/* jupyter's `normalize.less` sets `[hidden] { display: none; }` but bootstrap.min.css set `[hidden] { display: none !important; }` so we also need the `!important` here to be able to override the default hidden behavior on the sphinx rendered scikit-learn.org. See: https://github.com/scikit-learn/scikit-learn/issues/21755 */display: inline-block !important;position: relative;}#sk-container-id-2 div.sk-text-repr-fallback {display: none;}</style><div id=\"sk-container-id-2\" class=\"sk-top-container\"><div class=\"sk-text-repr-fallback\"><pre>KMeans(n_clusters=3, n_init=10)</pre><b>In a Jupyter environment, please rerun this cell to show the HTML representation or trust the notebook. <br />On GitHub, the HTML representation is unable to render, please try loading this page with nbviewer.org.</b></div><div class=\"sk-container\" hidden><div class=\"sk-item\"><div class=\"sk-estimator sk-toggleable\"><input class=\"sk-toggleable__control sk-hidden--visually\" id=\"sk-estimator-id-2\" type=\"checkbox\" checked><label for=\"sk-estimator-id-2\" class=\"sk-toggleable__label sk-toggleable__label-arrow\">KMeans</label><div class=\"sk-toggleable__content\"><pre>KMeans(n_clusters=3, n_init=10)</pre></div></div></div></div></div>"
     },
     "execution_count": 20,
     "metadata": {},
     "output_type": "execute_result"
    }
   ],
   "source": [
    "density_kmeans = KMeans(n_clusters=density_kl.elbow, n_init=10)\n",
    "density_kmeans.fit(density_features)"
   ],
   "metadata": {
    "collapsed": false,
    "ExecuteTime": {
     "start_time": "2023-04-07T01:27:35.450514Z",
     "end_time": "2023-04-07T01:27:35.648062Z"
    }
   }
  },
  {
   "cell_type": "code",
   "execution_count": 21,
   "outputs": [
    {
     "data": {
      "text/plain": "array([0, 0, 0, 0, 0, 0, 0, 0, 0, 0, 0, 0, 0, 0, 0, 0, 0, 0, 0, 0, 0, 0,\n       0, 0, 0, 0, 0, 0, 0, 0, 0, 0, 0, 0, 0, 0, 0, 0, 0, 0, 0, 0, 0, 0,\n       0, 0, 0, 0, 0, 0, 0, 0, 0, 0, 0, 0, 0, 0, 0, 0, 0, 0, 0, 0, 0, 0,\n       0, 0, 0, 0, 0, 0, 0, 0, 2, 0, 0, 0, 0, 0, 0, 0, 0, 0, 0, 2, 0, 0,\n       0, 0, 0, 0, 0, 0, 0, 0, 0, 0, 0, 0, 0, 0, 0, 0, 0, 0, 0, 0, 0, 0,\n       0, 0, 0, 0, 0, 0, 1, 0, 0, 0, 0, 0, 0, 0, 0, 0, 0, 0, 0, 0, 1, 0,\n       0, 0, 0, 0, 0, 0, 0, 0, 0, 0, 0, 0, 0, 0, 0, 0, 0, 0, 0, 0, 0, 0,\n       0, 0, 0, 0, 0, 0, 0, 0, 0, 0, 0, 0, 0, 0, 0, 0, 2, 0, 0, 0, 0, 0,\n       0, 0, 0, 0, 0, 0, 0, 0, 0, 0, 0, 0, 0, 0, 0, 0, 0, 0, 0, 0, 0, 0,\n       0, 0, 0, 0, 0, 0, 0, 0, 0, 0, 0, 0, 0, 0, 0, 0, 0, 0, 0])"
     },
     "execution_count": 21,
     "metadata": {},
     "output_type": "execute_result"
    }
   ],
   "source": [
    "density_kmeans.labels_"
   ],
   "metadata": {
    "collapsed": false,
    "ExecuteTime": {
     "start_time": "2023-04-07T01:27:35.649571Z",
     "end_time": "2023-04-07T01:27:35.663152Z"
    }
   }
  },
  {
   "cell_type": "code",
   "execution_count": 22,
   "outputs": [
    {
     "data": {
      "text/plain": "array([212,   2,   3], dtype=int64)"
     },
     "execution_count": 22,
     "metadata": {},
     "output_type": "execute_result"
    }
   ],
   "source": [
    "_, density_countries_count = np.unique(density_kmeans.labels_, return_counts=True)\n",
    "density_countries_count"
   ],
   "metadata": {
    "collapsed": false,
    "ExecuteTime": {
     "start_time": "2023-04-07T01:27:35.665152Z",
     "end_time": "2023-04-07T01:27:35.684180Z"
    }
   }
  },
  {
   "cell_type": "code",
   "execution_count": 23,
   "outputs": [
    {
     "data": {
      "text/plain": "                                           region  gdp_per_capita  population  \\\ncountry_name                                                                    \nAfghanistan                            South Asia      561.778746    34656032   \nAlbania                     Europe & Central Asia     4124.982390     2876101   \nAlgeria                Middle East & North Africa     3916.881571    40606052   \nAmerican Samoa                East Asia & Pacific    11834.745230       55599   \nAndorra                     Europe & Central Asia    36988.622030       77281   \n...                                           ...             ...         ...   \nVirgin Islands (U.S.)   Latin America & Caribbean    13445.593416      102951   \nWest Bank and Gaza     Middle East & North Africa     2943.404534     4551566   \nYemen, Rep.            Middle East & North Africa      990.334774    27584213   \nZambia                         Sub-Saharan Africa     1269.573537    16591390   \nZimbabwe                       Sub-Saharan Africa     1029.076649    16150362   \n\n                        co2_emission       area     density  \ncountry_name                                                 \nAfghanistan              9809.225000   652860.0   53.083405  \nAlbania                  5716.853000    28750.0  100.038296  \nAlgeria                145400.217000  2381740.0   17.048902  \nAmerican Samoa         165114.116337      200.0  277.995000  \nAndorra                   462.042000      470.0  164.427660  \n...                              ...        ...         ...  \nVirgin Islands (U.S.)  165114.116337      350.0  294.145714  \nWest Bank and Gaza     165114.116337     6020.0  756.074086  \nYemen, Rep.             22698.730000   527970.0   52.245796  \nZambia                   4503.076000   752610.0   22.045136  \nZimbabwe                12020.426000   390760.0   41.330643  \n\n[212 rows x 6 columns]",
      "text/html": "<div>\n<style scoped>\n    .dataframe tbody tr th:only-of-type {\n        vertical-align: middle;\n    }\n\n    .dataframe tbody tr th {\n        vertical-align: top;\n    }\n\n    .dataframe thead th {\n        text-align: right;\n    }\n</style>\n<table border=\"1\" class=\"dataframe\">\n  <thead>\n    <tr style=\"text-align: right;\">\n      <th></th>\n      <th>region</th>\n      <th>gdp_per_capita</th>\n      <th>population</th>\n      <th>co2_emission</th>\n      <th>area</th>\n      <th>density</th>\n    </tr>\n    <tr>\n      <th>country_name</th>\n      <th></th>\n      <th></th>\n      <th></th>\n      <th></th>\n      <th></th>\n      <th></th>\n    </tr>\n  </thead>\n  <tbody>\n    <tr>\n      <th>Afghanistan</th>\n      <td>South Asia</td>\n      <td>561.778746</td>\n      <td>34656032</td>\n      <td>9809.225000</td>\n      <td>652860.0</td>\n      <td>53.083405</td>\n    </tr>\n    <tr>\n      <th>Albania</th>\n      <td>Europe &amp; Central Asia</td>\n      <td>4124.982390</td>\n      <td>2876101</td>\n      <td>5716.853000</td>\n      <td>28750.0</td>\n      <td>100.038296</td>\n    </tr>\n    <tr>\n      <th>Algeria</th>\n      <td>Middle East &amp; North Africa</td>\n      <td>3916.881571</td>\n      <td>40606052</td>\n      <td>145400.217000</td>\n      <td>2381740.0</td>\n      <td>17.048902</td>\n    </tr>\n    <tr>\n      <th>American Samoa</th>\n      <td>East Asia &amp; Pacific</td>\n      <td>11834.745230</td>\n      <td>55599</td>\n      <td>165114.116337</td>\n      <td>200.0</td>\n      <td>277.995000</td>\n    </tr>\n    <tr>\n      <th>Andorra</th>\n      <td>Europe &amp; Central Asia</td>\n      <td>36988.622030</td>\n      <td>77281</td>\n      <td>462.042000</td>\n      <td>470.0</td>\n      <td>164.427660</td>\n    </tr>\n    <tr>\n      <th>...</th>\n      <td>...</td>\n      <td>...</td>\n      <td>...</td>\n      <td>...</td>\n      <td>...</td>\n      <td>...</td>\n    </tr>\n    <tr>\n      <th>Virgin Islands (U.S.)</th>\n      <td>Latin America &amp; Caribbean</td>\n      <td>13445.593416</td>\n      <td>102951</td>\n      <td>165114.116337</td>\n      <td>350.0</td>\n      <td>294.145714</td>\n    </tr>\n    <tr>\n      <th>West Bank and Gaza</th>\n      <td>Middle East &amp; North Africa</td>\n      <td>2943.404534</td>\n      <td>4551566</td>\n      <td>165114.116337</td>\n      <td>6020.0</td>\n      <td>756.074086</td>\n    </tr>\n    <tr>\n      <th>Yemen, Rep.</th>\n      <td>Middle East &amp; North Africa</td>\n      <td>990.334774</td>\n      <td>27584213</td>\n      <td>22698.730000</td>\n      <td>527970.0</td>\n      <td>52.245796</td>\n    </tr>\n    <tr>\n      <th>Zambia</th>\n      <td>Sub-Saharan Africa</td>\n      <td>1269.573537</td>\n      <td>16591390</td>\n      <td>4503.076000</td>\n      <td>752610.0</td>\n      <td>22.045136</td>\n    </tr>\n    <tr>\n      <th>Zimbabwe</th>\n      <td>Sub-Saharan Africa</td>\n      <td>1029.076649</td>\n      <td>16150362</td>\n      <td>12020.426000</td>\n      <td>390760.0</td>\n      <td>41.330643</td>\n    </tr>\n  </tbody>\n</table>\n<p>212 rows × 6 columns</p>\n</div>"
     },
     "execution_count": 23,
     "metadata": {},
     "output_type": "execute_result"
    }
   ],
   "source": [
    "first_density_cluster = df[density_kmeans.labels_ == 0]\n",
    "first_density_cluster"
   ],
   "metadata": {
    "collapsed": false,
    "ExecuteTime": {
     "start_time": "2023-04-07T01:27:35.680185Z",
     "end_time": "2023-04-07T01:27:35.713887Z"
    }
   }
  },
  {
   "cell_type": "code",
   "execution_count": 24,
   "outputs": [
    {
     "data": {
      "text/plain": "                                 region  gdp_per_capita  population  \\\ncountry_name                                                          \nMacao SAR, China    East Asia & Pacific    74017.184710      612167   \nMonaco            Europe & Central Asia    13445.593416       38499   \n\n                   co2_emission  area       density  \ncountry_name                                         \nMacao SAR, China    1283.450000  30.3  20203.531353  \nMonaco            165114.116337   2.0  19249.500000  ",
      "text/html": "<div>\n<style scoped>\n    .dataframe tbody tr th:only-of-type {\n        vertical-align: middle;\n    }\n\n    .dataframe tbody tr th {\n        vertical-align: top;\n    }\n\n    .dataframe thead th {\n        text-align: right;\n    }\n</style>\n<table border=\"1\" class=\"dataframe\">\n  <thead>\n    <tr style=\"text-align: right;\">\n      <th></th>\n      <th>region</th>\n      <th>gdp_per_capita</th>\n      <th>population</th>\n      <th>co2_emission</th>\n      <th>area</th>\n      <th>density</th>\n    </tr>\n    <tr>\n      <th>country_name</th>\n      <th></th>\n      <th></th>\n      <th></th>\n      <th></th>\n      <th></th>\n      <th></th>\n    </tr>\n  </thead>\n  <tbody>\n    <tr>\n      <th>Macao SAR, China</th>\n      <td>East Asia &amp; Pacific</td>\n      <td>74017.184710</td>\n      <td>612167</td>\n      <td>1283.450000</td>\n      <td>30.3</td>\n      <td>20203.531353</td>\n    </tr>\n    <tr>\n      <th>Monaco</th>\n      <td>Europe &amp; Central Asia</td>\n      <td>13445.593416</td>\n      <td>38499</td>\n      <td>165114.116337</td>\n      <td>2.0</td>\n      <td>19249.500000</td>\n    </tr>\n  </tbody>\n</table>\n</div>"
     },
     "execution_count": 24,
     "metadata": {},
     "output_type": "execute_result"
    }
   ],
   "source": [
    "second_density_cluster = df[density_kmeans.labels_ == 1]\n",
    "second_density_cluster"
   ],
   "metadata": {
    "collapsed": false,
    "ExecuteTime": {
     "start_time": "2023-04-07T01:27:35.713887Z",
     "end_time": "2023-04-07T01:27:35.803530Z"
    }
   }
  },
  {
   "cell_type": "code",
   "execution_count": 25,
   "outputs": [
    {
     "data": {
      "text/plain": "                                     region  gdp_per_capita  population  \\\ncountry_name                                                              \nGibraltar             Europe & Central Asia    13445.593416       34408   \nHong Kong SAR, China    East Asia & Pacific    43740.992880     7346700   \nSingapore               East Asia & Pacific    52962.491570     5607283   \n\n                      co2_emission    area      density  \ncountry_name                                             \nGibraltar                  528.048    10.0  3440.800000  \nHong Kong SAR, China     46222.535  1105.0  6648.597285  \nSingapore                56372.791   719.0  7798.724618  ",
      "text/html": "<div>\n<style scoped>\n    .dataframe tbody tr th:only-of-type {\n        vertical-align: middle;\n    }\n\n    .dataframe tbody tr th {\n        vertical-align: top;\n    }\n\n    .dataframe thead th {\n        text-align: right;\n    }\n</style>\n<table border=\"1\" class=\"dataframe\">\n  <thead>\n    <tr style=\"text-align: right;\">\n      <th></th>\n      <th>region</th>\n      <th>gdp_per_capita</th>\n      <th>population</th>\n      <th>co2_emission</th>\n      <th>area</th>\n      <th>density</th>\n    </tr>\n    <tr>\n      <th>country_name</th>\n      <th></th>\n      <th></th>\n      <th></th>\n      <th></th>\n      <th></th>\n      <th></th>\n    </tr>\n  </thead>\n  <tbody>\n    <tr>\n      <th>Gibraltar</th>\n      <td>Europe &amp; Central Asia</td>\n      <td>13445.593416</td>\n      <td>34408</td>\n      <td>528.048</td>\n      <td>10.0</td>\n      <td>3440.800000</td>\n    </tr>\n    <tr>\n      <th>Hong Kong SAR, China</th>\n      <td>East Asia &amp; Pacific</td>\n      <td>43740.992880</td>\n      <td>7346700</td>\n      <td>46222.535</td>\n      <td>1105.0</td>\n      <td>6648.597285</td>\n    </tr>\n    <tr>\n      <th>Singapore</th>\n      <td>East Asia &amp; Pacific</td>\n      <td>52962.491570</td>\n      <td>5607283</td>\n      <td>56372.791</td>\n      <td>719.0</td>\n      <td>7798.724618</td>\n    </tr>\n  </tbody>\n</table>\n</div>"
     },
     "execution_count": 25,
     "metadata": {},
     "output_type": "execute_result"
    }
   ],
   "source": [
    "third_density_cluster = df[density_kmeans.labels_ == 2]\n",
    "third_density_cluster"
   ],
   "metadata": {
    "collapsed": false,
    "ExecuteTime": {
     "start_time": "2023-04-07T01:27:35.729481Z",
     "end_time": "2023-04-07T01:27:35.812040Z"
    }
   }
  },
  {
   "cell_type": "code",
   "execution_count": 26,
   "outputs": [
    {
     "data": {
      "text/plain": "region\nMiddle East & North Africa    1848.470817\nSouth Asia                    1391.640000\nNorth America                 1306.620000\nLatin America & Caribbean     1176.617647\nEurope & Central Asia          866.005263\nEast Asia & Pacific            652.450000\nSub-Saharan Africa             619.349510\nName: density, dtype: float64"
     },
     "execution_count": 26,
     "metadata": {},
     "output_type": "execute_result"
    }
   ],
   "source": [
    "first_density_cluster.groupby('region').density.max().sort_values(ascending=False)"
   ],
   "metadata": {
    "collapsed": false,
    "ExecuteTime": {
     "start_time": "2023-04-07T01:27:35.747067Z",
     "end_time": "2023-04-07T01:27:35.813040Z"
    }
   }
  },
  {
   "cell_type": "code",
   "execution_count": 27,
   "outputs": [
    {
     "data": {
      "text/plain": "region\nEast Asia & Pacific      20203.531353\nEurope & Central Asia    19249.500000\nName: density, dtype: float64"
     },
     "execution_count": 27,
     "metadata": {},
     "output_type": "execute_result"
    }
   ],
   "source": [
    "second_density_cluster.groupby('region').density.max().sort_values(ascending=False)"
   ],
   "metadata": {
    "collapsed": false,
    "ExecuteTime": {
     "start_time": "2023-04-07T01:27:35.776899Z",
     "end_time": "2023-04-07T01:27:35.813040Z"
    }
   }
  },
  {
   "cell_type": "code",
   "execution_count": 28,
   "outputs": [
    {
     "data": {
      "text/plain": "region\nEast Asia & Pacific      7798.724618\nEurope & Central Asia    3440.800000\nName: density, dtype: float64"
     },
     "execution_count": 28,
     "metadata": {},
     "output_type": "execute_result"
    }
   ],
   "source": [
    "third_density_cluster.groupby('region').density.max().sort_values(ascending=False)"
   ],
   "metadata": {
    "collapsed": false,
    "ExecuteTime": {
     "start_time": "2023-04-07T01:27:35.794046Z",
     "end_time": "2023-04-07T01:27:35.941754Z"
    }
   }
  },
  {
   "cell_type": "code",
   "execution_count": 29,
   "outputs": [
    {
     "data": {
      "text/plain": "0.6694916845572668"
     },
     "execution_count": 29,
     "metadata": {},
     "output_type": "execute_result"
    }
   ],
   "source": [
    "silhouette_score(gdp_features, gdp_kmeans.labels_)"
   ],
   "metadata": {
    "collapsed": false,
    "ExecuteTime": {
     "start_time": "2023-04-07T01:27:35.822229Z",
     "end_time": "2023-04-07T01:27:36.049179Z"
    }
   }
  },
  {
   "cell_type": "code",
   "execution_count": 30,
   "outputs": [
    {
     "data": {
      "text/plain": "0.9532906385438781"
     },
     "execution_count": 30,
     "metadata": {},
     "output_type": "execute_result"
    }
   ],
   "source": [
    "silhouette_score(density_features, density_kmeans.labels_)"
   ],
   "metadata": {
    "collapsed": false,
    "ExecuteTime": {
     "start_time": "2023-04-07T01:27:35.836742Z",
     "end_time": "2023-04-07T01:27:36.169009Z"
    }
   }
  },
  {
   "cell_type": "code",
   "execution_count": 31,
   "outputs": [
    {
     "data": {
      "text/plain": "                       gdp_per_capita  population   co2_emission       area  \\\ncountry_name                                                                  \nAfghanistan                561.778746    34656032    9809.225000   652860.0   \nAlbania                   4124.982390     2876101    5716.853000    28750.0   \nAlgeria                   3916.881571    40606052  145400.217000  2381740.0   \nAmerican Samoa           11834.745230       55599  165114.116337      200.0   \nAndorra                  36988.622030       77281     462.042000      470.0   \n...                               ...         ...            ...        ...   \nVirgin Islands (U.S.)    13445.593416      102951  165114.116337      350.0   \nWest Bank and Gaza        2943.404534     4551566  165114.116337     6020.0   \nYemen, Rep.                990.334774    27584213   22698.730000   527970.0   \nZambia                    1269.573537    16591390    4503.076000   752610.0   \nZimbabwe                  1029.076649    16150362   12020.426000   390760.0   \n\n                          density  \ncountry_name                       \nAfghanistan             53.083405  \nAlbania                100.038296  \nAlgeria                 17.048902  \nAmerican Samoa         277.995000  \nAndorra                164.427660  \n...                           ...  \nVirgin Islands (U.S.)  294.145714  \nWest Bank and Gaza     756.074086  \nYemen, Rep.             52.245796  \nZambia                  22.045136  \nZimbabwe                41.330643  \n\n[217 rows x 5 columns]",
      "text/html": "<div>\n<style scoped>\n    .dataframe tbody tr th:only-of-type {\n        vertical-align: middle;\n    }\n\n    .dataframe tbody tr th {\n        vertical-align: top;\n    }\n\n    .dataframe thead th {\n        text-align: right;\n    }\n</style>\n<table border=\"1\" class=\"dataframe\">\n  <thead>\n    <tr style=\"text-align: right;\">\n      <th></th>\n      <th>gdp_per_capita</th>\n      <th>population</th>\n      <th>co2_emission</th>\n      <th>area</th>\n      <th>density</th>\n    </tr>\n    <tr>\n      <th>country_name</th>\n      <th></th>\n      <th></th>\n      <th></th>\n      <th></th>\n      <th></th>\n    </tr>\n  </thead>\n  <tbody>\n    <tr>\n      <th>Afghanistan</th>\n      <td>561.778746</td>\n      <td>34656032</td>\n      <td>9809.225000</td>\n      <td>652860.0</td>\n      <td>53.083405</td>\n    </tr>\n    <tr>\n      <th>Albania</th>\n      <td>4124.982390</td>\n      <td>2876101</td>\n      <td>5716.853000</td>\n      <td>28750.0</td>\n      <td>100.038296</td>\n    </tr>\n    <tr>\n      <th>Algeria</th>\n      <td>3916.881571</td>\n      <td>40606052</td>\n      <td>145400.217000</td>\n      <td>2381740.0</td>\n      <td>17.048902</td>\n    </tr>\n    <tr>\n      <th>American Samoa</th>\n      <td>11834.745230</td>\n      <td>55599</td>\n      <td>165114.116337</td>\n      <td>200.0</td>\n      <td>277.995000</td>\n    </tr>\n    <tr>\n      <th>Andorra</th>\n      <td>36988.622030</td>\n      <td>77281</td>\n      <td>462.042000</td>\n      <td>470.0</td>\n      <td>164.427660</td>\n    </tr>\n    <tr>\n      <th>...</th>\n      <td>...</td>\n      <td>...</td>\n      <td>...</td>\n      <td>...</td>\n      <td>...</td>\n    </tr>\n    <tr>\n      <th>Virgin Islands (U.S.)</th>\n      <td>13445.593416</td>\n      <td>102951</td>\n      <td>165114.116337</td>\n      <td>350.0</td>\n      <td>294.145714</td>\n    </tr>\n    <tr>\n      <th>West Bank and Gaza</th>\n      <td>2943.404534</td>\n      <td>4551566</td>\n      <td>165114.116337</td>\n      <td>6020.0</td>\n      <td>756.074086</td>\n    </tr>\n    <tr>\n      <th>Yemen, Rep.</th>\n      <td>990.334774</td>\n      <td>27584213</td>\n      <td>22698.730000</td>\n      <td>527970.0</td>\n      <td>52.245796</td>\n    </tr>\n    <tr>\n      <th>Zambia</th>\n      <td>1269.573537</td>\n      <td>16591390</td>\n      <td>4503.076000</td>\n      <td>752610.0</td>\n      <td>22.045136</td>\n    </tr>\n    <tr>\n      <th>Zimbabwe</th>\n      <td>1029.076649</td>\n      <td>16150362</td>\n      <td>12020.426000</td>\n      <td>390760.0</td>\n      <td>41.330643</td>\n    </tr>\n  </tbody>\n</table>\n<p>217 rows × 5 columns</p>\n</div>"
     },
     "execution_count": 31,
     "metadata": {},
     "output_type": "execute_result"
    }
   ],
   "source": [
    "numeric = df.select_dtypes(exclude=[object])\n",
    "numeric"
   ],
   "metadata": {
    "collapsed": false,
    "ExecuteTime": {
     "start_time": "2023-04-07T01:27:35.851084Z",
     "end_time": "2023-04-07T01:27:36.170051Z"
    }
   }
  },
  {
   "cell_type": "code",
   "execution_count": 32,
   "outputs": [
    {
     "data": {
      "text/plain": "<Figure size 1500x1000 with 6 Axes>",
      "image/png": "[encoded data removed]"
     },
     "metadata": {},
     "output_type": "display_data"
    }
   ],
   "source": [
    "fig, axes = plt.subplots(math.ceil(numeric.shape[1] / 2), numeric.shape[1] // 2, figsize=(15, 10))\n",
    "\n",
    "for ax, column in zip(axes.ravel(), numeric.columns):\n",
    "    ax.set_title(column)\n",
    "    numeric[column].hist(ax=ax)"
   ],
   "metadata": {
    "collapsed": false,
    "ExecuteTime": {
     "start_time": "2023-04-07T01:27:35.886648Z",
     "end_time": "2023-04-07T01:27:37.565936Z"
    }
   }
  },
  {
   "cell_type": "code",
   "execution_count": 33,
   "outputs": [],
   "source": [
    "def has_linear_dependence(first_df: pd.DataFrame, second_df: pd.DataFrame) -> bool:\n",
    "    corr = first_df.corrwith(second_df).abs()\n",
    "    return (0.8 <= corr).any()"
   ],
   "metadata": {
    "collapsed": false,
    "ExecuteTime": {
     "start_time": "2023-04-07T01:27:37.557424Z",
     "end_time": "2023-04-07T01:27:37.585965Z"
    }
   }
  },
  {
   "cell_type": "code",
   "execution_count": 34,
   "outputs": [],
   "source": [
    "df1 = pd.DataFrame.from_dict({\n",
    "    'a': [1, 2, 3],\n",
    "    'b': [4, 8, 12]\n",
    "})\n",
    "df2 = pd.DataFrame.from_dict({\n",
    "    'a': [2, 3, 5],\n",
    "    'b': [0, -10, 3]\n",
    "})"
   ],
   "metadata": {
    "collapsed": false,
    "ExecuteTime": {
     "start_time": "2023-04-07T01:27:37.573459Z",
     "end_time": "2023-04-07T01:27:37.626273Z"
    }
   }
  },
  {
   "cell_type": "code",
   "execution_count": 35,
   "outputs": [
    {
     "data": {
      "text/plain": "True"
     },
     "execution_count": 35,
     "metadata": {},
     "output_type": "execute_result"
    }
   ],
   "source": [
    "has_linear_dependence(df1, df2)"
   ],
   "metadata": {
    "collapsed": false,
    "ExecuteTime": {
     "start_time": "2023-04-07T01:27:37.587965Z",
     "end_time": "2023-04-07T01:27:37.626273Z"
    }
   }
  }
 ],
 "metadata": {
  "kernelspec": {
   "display_name": "Python 3",
   "language": "python",
   "name": "python3"
  },
  "language_info": {
   "codemirror_mode": {
    "name": "ipython",
    "version": 2
   },
   "file_extension": ".py",
   "mimetype": "text/x-python",
   "name": "python",
   "nbconvert_exporter": "python",
   "pygments_lexer": "ipython2",
   "version": "2.7.6"
  }
 },
 "nbformat": 4,
 "nbformat_minor": 0
}
